{
 "cells": [
  {
   "cell_type": "code",
   "execution_count": 1,
   "source": [
    "import os\n",
    "import pyttsx3"
   ],
   "outputs": [],
   "metadata": {}
  },
  {
   "cell_type": "code",
   "execution_count": 2,
   "source": [
    "engine = pyttsx3.init()"
   ],
   "outputs": [],
   "metadata": {}
  },
  {
   "cell_type": "code",
   "execution_count": 3,
   "source": [
    "voices = engine.getProperty('voices') \n",
    "engine.setProperty('voice', voices[1].id)"
   ],
   "outputs": [],
   "metadata": {}
  },
  {
   "cell_type": "code",
   "execution_count": 4,
   "source": [
    "voice_id = \"hindi\"\n",
    "newVoiceRate = 120\n",
    "engine.setProperty('voice', voice_id)\n",
    "engine.setProperty('rate', newVoiceRate)"
   ],
   "outputs": [],
   "metadata": {}
  },
  {
   "cell_type": "code",
   "execution_count": 5,
   "source": [
    "engine.say(\"Neque porro quisquam est qui dolorem ipsum quia dolor sit amet, consectetur, adipisci velit...\")\n",
    "engine.save_to_file(\"Neque porro quisquam est qui dolorem ipsum quia dolor sit amet, consectetur, adipisci velit...\", 'test.wav')\n",
    "engine.runAndWait()"
   ],
   "outputs": [],
   "metadata": {}
  }
 ],
 "metadata": {
  "orig_nbformat": 4,
  "language_info": {
   "name": "python",
   "version": "3.8.10",
   "mimetype": "text/x-python",
   "codemirror_mode": {
    "name": "ipython",
    "version": 3
   },
   "pygments_lexer": "ipython3",
   "nbconvert_exporter": "python",
   "file_extension": ".py"
  },
  "kernelspec": {
   "name": "python3",
   "display_name": "Python 3.8.10 64-bit ('pythonzinho': venv)"
  },
  "interpreter": {
   "hash": "9f033af1d88b9922c74c91d52b8d26713873d5e7964c86e78c9ee4480e62d86f"
  }
 },
 "nbformat": 4,
 "nbformat_minor": 2
}